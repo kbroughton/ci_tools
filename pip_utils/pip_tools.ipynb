{
 "cells": [
  {
   "cell_type": "code",
   "execution_count": 5,
   "metadata": {},
   "outputs": [
    {
     "name": "stdout",
     "output_type": "stream",
     "text": [
      "Collecting future\n",
      "  Downloading future-0.16.0.tar.gz (824kB)\n",
      "\u001b[K    100% |################################| 829kB 1.5MB/s eta 0:00:01\n",
      "\u001b[?25hBuilding wheels for collected packages: future\n",
      "  Running setup.py bdist_wheel for future ... \u001b[?25ldone\n",
      "\u001b[?25h  Stored in directory: /root/.cache/pip/wheels/c2/50/7c/0d83b4baac4f63ff7a765bd16390d2ab43c93587fac9d6017a\n",
      "Successfully built future\n",
      "Installing collected packages: future\n",
      "Successfully installed future-0.16.0\n"
     ]
    }
   ],
   "source": [
    "!pip install future"
   ]
  },
  {
   "cell_type": "code",
   "execution_count": 7,
   "metadata": {},
   "outputs": [],
   "source": [
    "import builtins"
   ]
  },
  {
   "cell_type": "code",
   "execution_count": 8,
   "metadata": {},
   "outputs": [],
   "source": [
    "from future.utils import listitems"
   ]
  },
  {
   "cell_type": "code",
   "execution_count": 21,
   "metadata": {},
   "outputs": [
    {
     "name": "stdout",
     "output_type": "stream",
     "text": [
      "Overwriting pip_tools.py\n"
     ]
    }
   ],
   "source": [
    "%%writefile pip_tools.py\n",
    "\n",
    "import copy\n",
    "import os\n",
    "import sys\n",
    "import argparse\n",
    "\n",
    "def combine_requirements(files, output_path='/tmp/requirements.txt'):\n",
    "    \"\"\"\n",
    "    @params files: list of filenames in requirements.txt format\n",
    "    @returns: union, intersection, duplicates, version_diffs\n",
    "    \"\"\"\n",
    "    lines = {}\n",
    "    union = {}\n",
    "    intersection = {}\n",
    "    duplicates = {}\n",
    "    version_diffs = {}\n",
    "    file_versions_map = {}\n",
    "    for _file in files:\n",
    "        print('_file', _file)\n",
    "        with open(_file, 'r') as f:\n",
    "            _file = os.path.basename(_file)\n",
    "            file_versions_map[_file] = {}\n",
    "            lines[_file] = f.readlines()\n",
    "            for line in lines[_file]:\n",
    "                if line.startswith('#') or (len(line.strip()) == 0):\n",
    "                    print('skipping line with contents {}'.format(line))\n",
    "                    continue\n",
    "                try:\n",
    "                    package, version = get_package_info(line)\n",
    "                except ValueError as err:\n",
    "                    raise(ValueError(\" : \".join([err.message, line])))\n",
    "                existing_list = union.get(package, [])\n",
    "                new_list = copy.copy(existing_list)\n",
    "                new_list.append((version, _file))\n",
    "                union.update({package: new_list})\n",
    "                file_versions_map[_file].update({package: (version, line)})\n",
    "                for (existing_version, existing_file) in existing_list:\n",
    "                    print(existing_version, existing_file)\n",
    "                    if existing_version == version:\n",
    "                        if package not in duplicates:\n",
    "                            duplicates[package] = [(existing_version, existing_file), (version, _file)]\n",
    "                        else:\n",
    "                            #print(duplicates.keys())\n",
    "                            duplicates.get(package).append((version, _file))\n",
    "                    else:\n",
    "                        if version_diffs.get(package, None):\n",
    "                            version_diffs.get(package, []).append((version, _file))\n",
    "                        else:            \n",
    "                            version_diffs[package] = [(existing_version, existing_file), (version, _file)]\n",
    "                                                           \n",
    "    intersection = set(union.keys())\n",
    "    # conservative intersection, do not include same package with different versions\n",
    "    for _file in files:\n",
    "        _file = os.path.basename(_file)\n",
    "        intersection = intersection.intersection(set(file_versions_map[_file].keys()))\n",
    "        orig_intersection = copy.copy(intersection)\n",
    "        # remove packages with different versions\n",
    "        for package, info in file_versions_map[_file].items():\n",
    "            version, line = info\n",
    "            if package in orig_intersection.intersection(set(version_diffs.keys())):\n",
    "                print(\"Removing package {} with different versions {}\".format(\n",
    "                    package, version_diffs[package]))\n",
    "                intersection.remove(package)\n",
    "                                                           \n",
    "\n",
    "    out_lines = []\n",
    "    for _file in file_versions_map.keys():\n",
    "        out_lines.append('\\n# ' + _file + '\\n\\n')\n",
    "        for package, info in file_versions_map[_file].items():\n",
    "            version, line = info\n",
    "            if package in duplicates.keys():\n",
    "                out_lines.append('# ' + line.strip() +  ' (duplicate)\\n')\n",
    "            elif package in version_diffs.keys():\n",
    "                out_lines.append('# ' + line.strip() + ' (version_diff)\\n')\n",
    "            else:\n",
    "                out_lines.append(line)\n",
    "        \n",
    "    with open(output_path, 'w') as f:\n",
    "        f.writelines(out_lines)\n",
    "        \n",
    "    return union, intersection, version_diffs, duplicates\n",
    "                \n",
    "        \n",
    "def get_package_info(line):\n",
    "    \"\"\"\n",
    "    @param line: a line from a requirements.txt file\n",
    "    WARNING: currently only supports '==' not '<=, ~=, etc'\n",
    "    examples:\n",
    "      foo==1.0.1\n",
    "      foo\n",
    "      [-e] git+git://git.myproject.org/SomeProject#egg=SomeProject\n",
    "      [-e] git+https://git.myproject.org/SomeProject#egg=SomeProject\n",
    "      [-e] git+ssh://git.myproject.org/SomeProject#egg=SomeProject\n",
    "      [-e] git://git.myproject.org/MyProject.git@master#egg=MyProject\n",
    "      [-e] git://git.myproject.org/MyProject.git@v1.0#egg=MyProject\n",
    "      [-e] git://git.myproject.org/MyProject.git@da39a3ee5e6b4b0d3255bfef95601890afd80709#egg=MyProject\n",
    "    \"\"\"\n",
    "    if line.startswith('-e') or line.startswith('[-e'):\n",
    "        if line.find('#egg=') != -1:\n",
    "            prefix, package = line.strip().split('#egg=')\n",
    "            # set a default version\n",
    "            version = 'master-latest'\n",
    "        else:\n",
    "            raise ValueError(\"unrecognized format for line {}\\n expected '#egg=<python-package>'\".format(line))\n",
    "        if prefix.find('@') != -1:\n",
    "            version = prefix.split('@')[1]\n",
    "    else:\n",
    "        split = line.split('==')\n",
    "        package = split[0].strip()\n",
    "        if len(split) == 2:\n",
    "            version = split[1].strip()\n",
    "        elif len(split) == 1:\n",
    "            version = 'latest'\n",
    "        else:\n",
    "            raise(ValueError('unrecognized requirements.txt line {}'.format(line)))\n",
    "    if len(package) == 0:\n",
    "        raise(ValueError('un-recognized version for line {}'.format(line)))\n",
    "    return package, version\n",
    "            \n",
    "def main():\n",
    "    parser = argparse.ArgumentParser()\n",
    "    parser.add_argument(\"method\")\n",
    "    parser.add_argument(\"-f\", \"--files\", help=\"comma separated no spaces list of files to process\")\n",
    "    parser.add_argument(\"-o\", \"--output-path\",\n",
    "                        help=\"comma separated no spaces list of files to process\",\n",
    "                        default=\"/tmp/requirements.txt\")\n",
    "    args = parser.parse_args()    \n",
    "        \n",
    "    if args.method == 'combine_requirements':\n",
    "        files = args.files.split(',')\n",
    "        combine_requirements(files, output_path=args.output_path)\n",
    "    \n",
    "if __name__ == '__main__':\n",
    "    main()\n",
    "    "
   ]
  },
  {
   "cell_type": "code",
   "execution_count": 15,
   "metadata": {},
   "outputs": [
    {
     "name": "stdout",
     "output_type": "stream",
     "text": [
      "/notebooks/projects/core/Haystack\n",
      "['/notebooks/projects/core/Haystack/django_requirements.txt', '/notebooks/projects/core/Haystack/scipy_requirements.txt', '/notebooks/projects/core/Haystack/clients_requirements.txt']\n"
     ]
    }
   ],
   "source": [
    "base_dir = \"/notebooks/projects/core/Haystack\"\n",
    "print(base_dir)\n",
    "files = [os.path.join(base_dir, x) for x in os.listdir(base_dir) if x.endswith('requirements.txt') ]\n",
    "print(files)"
   ]
  },
  {
   "cell_type": "code",
   "execution_count": 16,
   "metadata": {},
   "outputs": [
    {
     "name": "stdout",
     "output_type": "stream",
     "text": [
      "skipping line with contents # Most django requirements currently reside in \n",
      "\n",
      "skipping line with contents # docker-stacks/base_requirements.txt\n",
      "\n",
      "skipping line with contents \n",
      "\n",
      "skipping line with contents #redis_opentracing\n",
      "\n",
      "('b83674f3267310c95aa24dc47b6f495705ad8c65', 'django_requirements.txt')\n",
      "Removing package django_opentracing with different versions [('b83674f3267310c95aa24dc47b6f495705ad8c65', 'django_requirements.txt'), ('latest', 'clients_requirements.txt')]\n",
      "('union', 38)\n",
      "{'Cython': [('0.26', 'scipy_requirements.txt')],\n",
      " 'django_opentracing': [('b83674f3267310c95aa24dc47b6f495705ad8c65',\n",
      "                         'django_requirements.txt'),\n",
      "                        ('latest', 'clients_requirements.txt')],\n",
      " 'flower': [('latest', 'django_requirements.txt')],\n",
      " 'ipykernel': [('4.6.1', 'scipy_requirements.txt')],\n",
      " 'ipython': [('latest', 'scipy_requirements.txt')],\n",
      " 'ipython-genutils': [('0.2.0', 'scipy_requirements.txt')],\n",
      " 'ipywidgets': [('6.0.0', 'scipy_requirements.txt')],\n",
      " 'jaeger-client': [('d05b1c6057d294dad479e70c13c33777e99c655b',\n",
      "                    'django_requirements.txt')],\n",
      " 'jupyter': [('1.0.0', 'scipy_requirements.txt')],\n",
      " 'jupyter-client': [('5.1.0', 'scipy_requirements.txt')],\n",
      " 'jupyter-console': [('5.1.0', 'scipy_requirements.txt')],\n",
      " 'jupyter-core': [('4.3.0', 'scipy_requirements.txt')],\n",
      " 'matplotlib': [('2.0.2', 'scipy_requirements.txt')],\n",
      " 'mysqlclient-deps': [('0.0.2', 'clients_requirements.txt')],\n",
      " 'nbconvert': [('5.2.1', 'scipy_requirements.txt')],\n",
      " 'nbformat': [('4.3.0', 'scipy_requirements.txt')],\n",
      " 'notebook': [('5.0.0', 'scipy_requirements.txt')],\n",
      " 'numpy': [('1.13.1', 'scipy_requirements.txt')],\n",
      " 'oauth2client': [('4.1.1', 'clients_requirements.txt')],\n",
      " 'opentracing-instrumentation': [('latest', 'django_requirements.txt')],\n",
      " 'pandas': [('0.20.3', 'scipy_requirements.txt')],\n",
      " 'pandocfilters': [('1.4.2', 'scipy_requirements.txt')],\n",
      " 'psycopg2': [('2.7.1', 'clients_requirements.txt')],\n",
      " 'pystan': [('2.16.0.0', 'scipy_requirements.txt')],\n",
      " 'python-dateutil': [('2.6.1', 'scipy_requirements.txt')],\n",
      " 'pytz': [('2017.2', 'scipy_requirements.txt')],\n",
      " 'pyzmq': [('16.0.2', 'scipy_requirements.txt')],\n",
      " 'qtconsole': [('4.3.1', 'scipy_requirements.txt')],\n",
      " 'redis': [('latest', 'django_requirements.txt')],\n",
      " 'rsa': [('3.4.2', 'clients_requirements.txt')],\n",
      " 'scikit-learn': [('0.19.0', 'scipy_requirements.txt')],\n",
      " 'scipy': [('0.19.1', 'scipy_requirements.txt')],\n",
      " 'sklearn': [('0.0', 'scipy_requirements.txt')],\n",
      " 'terminado': [('0.6', 'scipy_requirements.txt')],\n",
      " 'tornado': [('4.5.1', 'scipy_requirements.txt')],\n",
      " 'traitlets': [('4.3.2', 'scipy_requirements.txt')],\n",
      " 'uritemplate': [('3.0.0', 'scipy_requirements.txt')],\n",
      " 'virtualenv': [('15.1.0', 'scipy_requirements.txt')]}\n",
      "('intersection', 0)\n",
      "set([])\n",
      "version_diffs\n",
      "{'django_opentracing': [('b83674f3267310c95aa24dc47b6f495705ad8c65',\n",
      "                         'django_requirements.txt'),\n",
      "                        ('latest', 'clients_requirements.txt')]}\n",
      "duplicates\n",
      "{}\n"
     ]
    }
   ],
   "source": [
    "union, intersection, version_diffs, duplicates = combine_requirements(files)\n",
    "import pprint\n",
    "print('union', len(union))\n",
    "pprint.pprint(union)\n",
    "print('intersection', len(intersection))\n",
    "pprint.pprint(intersection)\n",
    "print('version_diffs')\n",
    "pprint.pprint(version_diffs)\n",
    "print('duplicates')\n",
    "pprint.pprint(duplicates)"
   ]
  },
  {
   "cell_type": "code",
   "execution_count": null,
   "metadata": {},
   "outputs": [],
   "source": []
  },
  {
   "cell_type": "code",
   "execution_count": 60,
   "metadata": {},
   "outputs": [],
   "source": [
    "env = \"\"\"mysql_root_password=hs4demo\n",
    "mysql_user=root\n",
    "mysql_pass=hsabi\n",
    "mysql_monitor_user=monitor_user\n",
    "mysql_monitor_pass=akble902aj3\n",
    "haystack_user=hsdemo\n",
    "haystack_password=fever4me\n",
    "logzio_auth_token=ulkhtivrLZOuyGMrzOGUvOFfACyogNov\n",
    "mysql_data_path=~/mysqldata\n",
    "logzio_monitor_path=~/.logzio/monitor\n",
    "logzio_logs_path=~/.logzio/logs\n",
    "redis_data_path=~/.redis/data\n",
    "core_haystack_path=~/projects/core/Haystack\n",
    "\"\"\""
   ]
  },
  {
   "cell_type": "code",
   "execution_count": 137,
   "metadata": {},
   "outputs": [
    {
     "data": {
      "text/plain": [
       "{4, 5}"
      ]
     },
     "execution_count": 137,
     "metadata": {},
     "output_type": "execute_result"
    }
   ],
   "source": [
    "b1 = [1,2,3,4,5,9,11,15]\n",
    "b2 = [4,5,6,7,8]\n",
    "set(b1).intersection(b2)"
   ]
  },
  {
   "cell_type": "code",
   "execution_count": 138,
   "metadata": {},
   "outputs": [
    {
     "data": {
      "text/plain": [
       "[1, 2, 3, 4, 5, 9, 11, 15]"
      ]
     },
     "execution_count": 138,
     "metadata": {},
     "output_type": "execute_result"
    }
   ],
   "source": [
    "b1"
   ]
  },
  {
   "cell_type": "code",
   "execution_count": 10,
   "metadata": {},
   "outputs": [
    {
     "name": "stdout",
     "output_type": "stream",
     "text": [
      "['mysql_root_password=hs4demo', 'mysql_user=root', 'mysql_pass=hsabi', 'mysql_monitor_user=monitor_user', 'mysql_monitor_pass=akble902aj3', 'haystack_user=hsdemo', 'haystack_password=fever4me', 'logzio_auth_token=ulkhtivrLZOuyGMrzOGUvOFfACyogNov', 'mysql_data_path=~/mysqldata', 'logzio_monitor_path=~/.logzio/monitor', 'logzio_logs_path=~/.logzio/logs', 'redis_data_path=~/.redis/data', 'core_haystack_path=~/projects/core/Haystack', '']\n",
      "['mysql_root_password', 'mysql_user', 'mysql_pass', 'mysql_monitor_user', 'mysql_monitor_pass', 'haystack_user', 'haystack_password', 'logzio_auth_token', 'mysql_data_path', 'logzio_monitor_path', 'logzio_logs_path', 'redis_data_path', 'core_haystack_path', '']\n",
      "mysql_root_password\n",
      "mysql_user\n",
      "mysql_pass\n",
      "mysql_monitor_user\n",
      "mysql_monitor_pass\n",
      "haystack_user\n",
      "haystack_password\n",
      "logzio_auth_token\n",
      "mysql_data_path\n",
      "logzio_monitor_path\n",
      "logzio_logs_path\n",
      "redis_data_path\n",
      "core_haystack_path\n",
      "\n"
     ]
    }
   ],
   "source": [
    "splits = env.split('\\n')\n",
    "print(splits)`````````````````a\n",
    "x = [ x.split('=')[0] for x in splits]\n",
    "print(x)\n",
    "print(\"\\n\".join(x))"
   ]
  },
  {
   "cell_type": "code",
   "execution_count": null,
   "metadata": {},
   "outputs": [],
   "source": []
  }
 ],
 "metadata": {
  "kernelspec": {
   "display_name": "Python 3",
   "language": "python",
   "name": "python3"
  },
  "language_info": {
   "codemirror_mode": {
    "name": "ipython",
    "version": 2
   },
   "file_extension": ".py",
   "mimetype": "text/x-python",
   "name": "python",
   "nbconvert_exporter": "python",
   "pygments_lexer": "ipython2",
   "version": "2.7.12"
  }
 },
 "nbformat": 4,
 "nbformat_minor": 2
}
